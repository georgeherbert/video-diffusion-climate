{
 "cells": [
  {
   "cell_type": "code",
   "execution_count": 1,
   "metadata": {},
   "outputs": [],
   "source": [
    "import torch\n",
    "from matplotlib import pyplot as plt\n",
    "from matplotlib import rc\n",
    "import numpy as np\n",
    "\n",
    "rc(\"font\", **{\"family\": \"Times\"})\n",
    "rc(\"text\", usetex=True)\n",
    "# plt.rcParams['figure.dpi']= 300\n",
    "plt.rcParams['figure.dpi']= 150\n",
    "\n",
    "x = torch.load(\"pr_rcp85_land-cpm_birmingham-64_2.2km-coarsened-4x-2.2km-coarsened-4x_01_1hr_flattened_sorted.pt\").numpy()\n",
    "y = torch.load(\"samples.pt\", map_location=torch.device('cpu')).numpy().flatten()"
   ]
  },
  {
   "cell_type": "code",
   "execution_count": 6,
   "metadata": {},
   "outputs": [],
   "source": [
    "plt.figure(figsize=(6, 4))\n",
    "plt.hist(x, alpha = 0.5, label = \"UKCP18\", density = True, range = (0, x[-1]), bins = 100)\n",
    "plt.hist(y, alpha = 0.5, label = \"Generated\", density = True, range = (0, x[-1]), bins = 100)\n",
    "plt.yscale(\"log\")\n",
    "plt.xlabel('Precipitation [$\\mathrm{mm}\\cdot\\mathrm{hour}^{-1}$]')\n",
    "plt.ylabel('Frequency Density')\n",
    "plt.legend()\n",
    "plt.show()"
   ]
  }
 ],
 "metadata": {
  "kernelspec": {
   "display_name": "climate",
   "language": "python",
   "name": "python3"
  },
  "language_info": {
   "codemirror_mode": {
    "name": "ipython",
    "version": 3
   },
   "file_extension": ".py",
   "mimetype": "text/x-python",
   "name": "python",
   "nbconvert_exporter": "python",
   "pygments_lexer": "ipython3",
   "version": "3.10.9"
  },
  "orig_nbformat": 4,
  "vscode": {
   "interpreter": {
    "hash": "2d85d3adfea3daeecb69cf52de3edebae5812d214d48ab1fe06cbe52849598a3"
   }
  }
 },
 "nbformat": 4,
 "nbformat_minor": 2
}
