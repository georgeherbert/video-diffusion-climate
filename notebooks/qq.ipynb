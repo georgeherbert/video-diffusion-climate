{
 "cells": [
  {
   "cell_type": "code",
   "execution_count": 145,
   "metadata": {},
   "outputs": [
    {
     "name": "stdout",
     "output_type": "stream",
     "text": [
      "samples.pt                                    100% 1170MB   2.1MB/s   09:18    \n",
      "samples_no_sqrt.pt                            100%  690MB   4.8MB/s   02:25    \n"
     ]
    }
   ],
   "source": [
    "import torch\n",
    "from matplotlib import pyplot as plt\n",
    "from matplotlib import rc\n",
    "import numpy as np\n",
    "import xarray as xr\n",
    "\n",
    "rc(\"font\", **{\"family\": \"Times\"})\n",
    "rc(\"text\", usetex=True)\n",
    "plt.rcParams['figure.dpi'] = 150\n",
    "\n",
    "!scp bp:samples.pt .\n",
    "!scp bp:samples_no_sqrt.pt .\n",
    "\n",
    "test = xr.open_dataset(\"test.nc\").pr.values\n",
    "samples = torch.load(\"samples.pt\", map_location=torch.device('cpu')).numpy()\n",
    "# samples = torch.load(\"samples_no_sqrt.pt\", map_location=torch.device('cpu')).numpy()\n",
    "# samples = torch.load(\"samples_old.pt\", map_location=torch.device('cpu'))[:256].numpy()\n",
    "# samples = torch.load(\"results_continuous/15.pt\", map_location=torch.device('cpu')).numpy()\n",
    "# samples = torch.load(\"results_continuous_no_sqrt/10.pt\", map_location=torch.device('cpu')).numpy()\n",
    "# samples = torch.load(\"results/50.pt\", map_location=torch.device('cpu')).numpy()\n",
    "\n",
    "test_cells_sorted = torch.load(\"test_flattened_sorted.pt\").numpy()\n",
    "samples_cells_sorted = np.sort(samples.flatten())\n",
    "\n",
    "test_frames = test.reshape(-1, 64 * 64)\n",
    "test_frames_mean = np.mean(test_frames, axis=1)\n",
    "test_frames_mean_sorted = np.sort(test_frames_mean)\n",
    "samples_frames = samples.reshape(-1, 64 * 64)\n",
    "samples_frames_mean = np.mean(samples_frames, axis=1)\n",
    "samples_frames_mean_sorted = np.sort(samples_frames_mean)\n",
    "\n",
    "test_videos = test.reshape(-1, 10 * 64 * 64)\n",
    "test_videos_mean = np.mean(test_videos, axis=1)\n",
    "test_videos_mean_sorted = np.sort(test_videos_mean)\n",
    "samples_videos = samples.reshape(-1, 10 * 64 * 64)\n",
    "samples_videos_mean = np.mean(samples_videos, axis=1)\n",
    "samples_videos_mean_sorted = np.sort(samples_videos_mean)"
   ]
  },
  {
   "cell_type": "code",
   "execution_count": 136,
   "metadata": {},
   "outputs": [
    {
     "name": "stdout",
     "output_type": "stream",
     "text": [
      "QQ Plot for Individual Cells:\n",
      "QQ Plot for Frame Averages:\n",
      "QQ Plot for Video Averages:\n"
     ]
    }
   ],
   "source": [
    "def get_quantiles(sorted_array, desired_quantiles):\n",
    "    indices = (len(sorted_array) - 1) * desired_quantiles\n",
    "    indices_floor = np.floor(indices).astype(int)\n",
    "    indices_ceil = np.ceil(indices).astype(int)\n",
    "\n",
    "    indices_fractional_part = indices - indices_floor\n",
    "\n",
    "    quantiles_floor = sorted_array[indices_floor]\n",
    "    quantiles_ceil = sorted_array[indices_ceil]\n",
    "\n",
    "    quantiles = quantiles_floor + indices_fractional_part * (quantiles_ceil - quantiles_floor)\n",
    "\n",
    "    return quantiles\n",
    "\n",
    "def plot_qq(test_quantiles, samples_quantiles, log = False):\n",
    "    plt.figure(figsize=(6, 6))\n",
    "    plt.scatter(test_quantiles, samples_quantiles, marker = 'x', s = 5, linewidth = 0.5, label = \"Actual\")\n",
    "    # plt.plot(test_quantiles, samples_quantiles, linewidth = 0.5, label = \"Actual\")\n",
    "    plt.plot(test_quantiles, test_quantiles, linewidth = 0.5, linestyle=\":\", c = \"black\", label = \"Ideal\")\n",
    "    plt.legend()\n",
    "\n",
    "    plt.xscale('log' if log else 'linear')\n",
    "    plt.yscale('log' if log else 'linear')\n",
    "    \n",
    "    plt.xlabel('UKCP18 Precipitation Quantiles [$\\mathrm{mm}\\cdot\\mathrm{hour}^{-1}$]')\n",
    "    plt.ylabel('Generated Precipitation Quantiles [$\\mathrm{mm}\\cdot\\mathrm{hour}^{-1}$]')\n",
    "\n",
    "    plt.show()\n",
    "\n",
    "desired_quantiles = np.concatenate([np.linspace((1 - 10 ** (i + 1)) + (10 ** i), (1-10**i), 9) for i in range(-1, -8, -1)])\n",
    "# desired_quantiles = 1 - np.geomspace(1, 0.0000001, 1000)\n",
    "# print(desired_quantiles)\n",
    "\n",
    "test_cells_quantiles = get_quantiles(test_cells_sorted, desired_quantiles)\n",
    "samples_cells_quantiles = get_quantiles(samples_cells_sorted, desired_quantiles)\n",
    "\n",
    "test_frames_quantiles = get_quantiles(test_frames_mean_sorted, desired_quantiles)\n",
    "samples_frames_quantiles = get_quantiles(samples_frames_mean_sorted, desired_quantiles)\n",
    "\n",
    "test_videos_quantiles = get_quantiles(test_videos_mean_sorted, desired_quantiles)\n",
    "samples_videos_quantiles = get_quantiles(samples_videos_mean_sorted, desired_quantiles)\n",
    "\n",
    "print(\"QQ Plot for Individual Cells:\")\n",
    "# plot_qq(test_cells_quantiles, samples_cells_quantiles)\n",
    "print(\"QQ Plot for Frame Averages:\")\n",
    "# plot_qq(test_frames_quantiles, samples_frames_quantiles)\n",
    "print(\"QQ Plot for Video Averages:\")\n",
    "# plot_qq(test_videos_quantiles, samples_videos_quantiles)"
   ]
  }
 ],
 "metadata": {
  "kernelspec": {
   "display_name": "climate",
   "language": "python",
   "name": "python3"
  },
  "language_info": {
   "codemirror_mode": {
    "name": "ipython",
    "version": 3
   },
   "file_extension": ".py",
   "mimetype": "text/x-python",
   "name": "python",
   "nbconvert_exporter": "python",
   "pygments_lexer": "ipython3",
   "version": "3.10.9"
  },
  "orig_nbformat": 4,
  "vscode": {
   "interpreter": {
    "hash": "2d85d3adfea3daeecb69cf52de3edebae5812d214d48ab1fe06cbe52849598a3"
   }
  }
 },
 "nbformat": 4,
 "nbformat_minor": 2
}
