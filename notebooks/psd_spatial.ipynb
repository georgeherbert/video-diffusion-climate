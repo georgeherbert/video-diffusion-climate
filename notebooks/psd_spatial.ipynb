{
 "cells": [
  {
   "cell_type": "code",
   "execution_count": 59,
   "metadata": {},
   "outputs": [],
   "source": [
    "import torch\n",
    "from matplotlib import pyplot as plt\n",
    "from matplotlib import rc\n",
    "import numpy as np\n",
    "import scipy.stats as stats\n",
    "import xarray as xr\n",
    "\n",
    "rc(\"font\", **{\"family\": \"Times\"})\n",
    "rc(\"text\", usetex=True)\n",
    "plt.rcParams['figure.dpi']= 300\n",
    "\n",
    "test_frames = xr.open_dataset(\"test.nc\").pr.values.reshape(-1, 64, 64)\n",
    "sample_frames = torch.load(\"samples.pt\", map_location=torch.device('cpu')).reshape(-1, 64, 64).numpy()"
   ]
  },
  {
   "cell_type": "code",
   "execution_count": 60,
   "metadata": {},
   "outputs": [],
   "source": [
    "def psd_spatial(frames):\n",
    "    fourier_image = np.fft.fftn(frames, axes = (1, 2))\n",
    "    fourier_amplitudes = np.abs(fourier_image) ** 2\n",
    "\n",
    "    npix = frames.shape[1]\n",
    "\n",
    "    kfreq = np.fft.fftfreq(npix) * npix\n",
    "    kfreq2D = np.meshgrid(kfreq, kfreq)\n",
    "    knrm = np.sqrt(kfreq2D[0] ** 2 + kfreq2D[1] ** 2)\n",
    "    knrm = knrm.flatten()\n",
    "\n",
    "    kbins = np.arange(0.5, npix // 2 + 1, 1.)\n",
    "    kvals = 0.5 * (kbins[1:] + kbins[:-1])\n",
    "\n",
    "    Abins, _, _ = stats.binned_statistic( \n",
    "        knrm,\n",
    "        fourier_amplitudes.reshape(-1, npix * npix), \n",
    "        statistic = \"mean\",\n",
    "        bins = kbins\n",
    "    )\n",
    "    Abins *= np.pi * (kbins[1:] ** 2 - kbins[:-1] ** 2)\n",
    "    Abins = np.mean(Abins, axis = 0)\n",
    "\n",
    "    return kvals, Abins\n",
    "\n",
    "kvals_test, Abins_test = psd_spatial(test_frames)\n",
    "kvals_sample, Abins_sample = psd_spatial(sample_frames)\n",
    "\n",
    "plt.figure(figsize=(6, 4))\n",
    "plt.loglog(kvals_test, Abins_test, label=\"UKCP18\")\n",
    "plt.loglog(kvals_sample, Abins_sample, label=\"Generated\")\n",
    "plt.xlabel(\"$k$\")\n",
    "plt.ylabel(\"$P(k)$\")\n",
    "plt.legend()\n",
    "plt.show()"
   ]
  }
 ],
 "metadata": {
  "kernelspec": {
   "display_name": "climate",
   "language": "python",
   "name": "python3"
  },
  "language_info": {
   "codemirror_mode": {
    "name": "ipython",
    "version": 3
   },
   "file_extension": ".py",
   "mimetype": "text/x-python",
   "name": "python",
   "nbconvert_exporter": "python",
   "pygments_lexer": "ipython3",
   "version": "3.10.9"
  },
  "orig_nbformat": 4,
  "vscode": {
   "interpreter": {
    "hash": "2d85d3adfea3daeecb69cf52de3edebae5812d214d48ab1fe06cbe52849598a3"
   }
  }
 },
 "nbformat": 4,
 "nbformat_minor": 2
}
